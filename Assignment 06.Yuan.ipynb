{
 "cells": [
  {
   "cell_type": "markdown",
   "metadata": {},
   "source": [
    "# Women's E-Commerce Clothing Reviews"
   ]
  },
  {
   "attachments": {},
   "cell_type": "markdown",
   "metadata": {},
   "source": [
    "1. The bag-of-words model assumes that we do not consider the contextual relationships between words in the text, but only the weights of all words, which are related to the frequency of the words in the text. The weights are related to the frequency of words in the text.\n",
    "   It first splits the words and then by counting the number of occurrences of each word in the text, if these words are put together with the corresponding word frequencies for each text sample, we can obtain the word-based features in the text.\n",
    "\n",
    "\n",
    "2.  Naïve Bayes works as follow: \n",
    "\n",
    "    First, get the \"priori probability\" of each class (0 or 1 in this assignment) from training set. \n",
    "    \n",
    "    Second, count the frequency of each word in each class.\n",
    "    \n",
    "    Third, multiplying the \"prior probability\" with the word frequency in each class to obtain the \"posterior probability\" in each class.The class with higher probability will be the predicted result.\n",
    "    \n",
    "$$P(Y = Ci | X)$$  \n",
    "Means the probability of a text belonging to a class, given that a combination of words X has been observed  \n",
    "\n",
    "    \n",
    "    \n",
    "    \n",
    "    \n",
    "    "
   ]
  },
  {
   "cell_type": "markdown",
   "metadata": {},
   "source": [
    "In this Notebook, I'll use text mining to predict the rating of a dress from online reviews."
   ]
  },
  {
   "cell_type": "code",
   "execution_count": 40,
   "metadata": {},
   "outputs": [],
   "source": [
    "import pandas as pd\n",
    "from sklearn.feature_extraction.text import CountVectorizer\n",
    "from sklearn.model_selection import train_test_split\n",
    "from sklearn.metrics import confusion_matrix"
   ]
  },
  {
   "cell_type": "markdown",
   "metadata": {},
   "source": [
    "### read the data file "
   ]
  },
  {
   "cell_type": "code",
   "execution_count": 46,
   "metadata": {},
   "outputs": [
    {
     "data": {
      "text/html": [
       "<div>\n",
       "<style scoped>\n",
       "    .dataframe tbody tr th:only-of-type {\n",
       "        vertical-align: middle;\n",
       "    }\n",
       "\n",
       "    .dataframe tbody tr th {\n",
       "        vertical-align: top;\n",
       "    }\n",
       "\n",
       "    .dataframe thead th {\n",
       "        text-align: right;\n",
       "    }\n",
       "</style>\n",
       "<table border=\"1\" class=\"dataframe\">\n",
       "  <thead>\n",
       "    <tr style=\"text-align: right;\">\n",
       "      <th></th>\n",
       "      <th>Unnamed: 0</th>\n",
       "      <th>Clothing ID</th>\n",
       "      <th>Age</th>\n",
       "      <th>Title</th>\n",
       "      <th>Review Text</th>\n",
       "      <th>Rating</th>\n",
       "      <th>Recommended IND</th>\n",
       "      <th>Positive Feedback Count</th>\n",
       "      <th>Division Name</th>\n",
       "      <th>Department Name</th>\n",
       "      <th>Class Name</th>\n",
       "    </tr>\n",
       "  </thead>\n",
       "  <tbody>\n",
       "    <tr>\n",
       "      <td>0</td>\n",
       "      <td>0</td>\n",
       "      <td>767</td>\n",
       "      <td>33</td>\n",
       "      <td>NaN</td>\n",
       "      <td>Absolutely wonderful - silky and sexy and comf...</td>\n",
       "      <td>4</td>\n",
       "      <td>1</td>\n",
       "      <td>0</td>\n",
       "      <td>Initmates</td>\n",
       "      <td>Intimate</td>\n",
       "      <td>Intimates</td>\n",
       "    </tr>\n",
       "    <tr>\n",
       "      <td>1</td>\n",
       "      <td>1</td>\n",
       "      <td>1080</td>\n",
       "      <td>34</td>\n",
       "      <td>NaN</td>\n",
       "      <td>Love this dress!  it's sooo pretty.  i happene...</td>\n",
       "      <td>5</td>\n",
       "      <td>1</td>\n",
       "      <td>4</td>\n",
       "      <td>General</td>\n",
       "      <td>Dresses</td>\n",
       "      <td>Dresses</td>\n",
       "    </tr>\n",
       "    <tr>\n",
       "      <td>2</td>\n",
       "      <td>2</td>\n",
       "      <td>1077</td>\n",
       "      <td>60</td>\n",
       "      <td>Some major design flaws</td>\n",
       "      <td>I had such high hopes for this dress and reall...</td>\n",
       "      <td>3</td>\n",
       "      <td>0</td>\n",
       "      <td>0</td>\n",
       "      <td>General</td>\n",
       "      <td>Dresses</td>\n",
       "      <td>Dresses</td>\n",
       "    </tr>\n",
       "    <tr>\n",
       "      <td>3</td>\n",
       "      <td>3</td>\n",
       "      <td>1049</td>\n",
       "      <td>50</td>\n",
       "      <td>My favorite buy!</td>\n",
       "      <td>I love, love, love this jumpsuit. it's fun, fl...</td>\n",
       "      <td>5</td>\n",
       "      <td>1</td>\n",
       "      <td>0</td>\n",
       "      <td>General Petite</td>\n",
       "      <td>Bottoms</td>\n",
       "      <td>Pants</td>\n",
       "    </tr>\n",
       "    <tr>\n",
       "      <td>4</td>\n",
       "      <td>4</td>\n",
       "      <td>847</td>\n",
       "      <td>47</td>\n",
       "      <td>Flattering shirt</td>\n",
       "      <td>This shirt is very flattering to all due to th...</td>\n",
       "      <td>5</td>\n",
       "      <td>1</td>\n",
       "      <td>6</td>\n",
       "      <td>General</td>\n",
       "      <td>Tops</td>\n",
       "      <td>Blouses</td>\n",
       "    </tr>\n",
       "  </tbody>\n",
       "</table>\n",
       "</div>"
      ],
      "text/plain": [
       "   Unnamed: 0  Clothing ID  Age                    Title  \\\n",
       "0           0          767   33                      NaN   \n",
       "1           1         1080   34                      NaN   \n",
       "2           2         1077   60  Some major design flaws   \n",
       "3           3         1049   50         My favorite buy!   \n",
       "4           4          847   47         Flattering shirt   \n",
       "\n",
       "                                         Review Text  Rating  Recommended IND  \\\n",
       "0  Absolutely wonderful - silky and sexy and comf...       4                1   \n",
       "1  Love this dress!  it's sooo pretty.  i happene...       5                1   \n",
       "2  I had such high hopes for this dress and reall...       3                0   \n",
       "3  I love, love, love this jumpsuit. it's fun, fl...       5                1   \n",
       "4  This shirt is very flattering to all due to th...       5                1   \n",
       "\n",
       "   Positive Feedback Count   Division Name Department Name Class Name  \n",
       "0                        0       Initmates        Intimate  Intimates  \n",
       "1                        4         General         Dresses    Dresses  \n",
       "2                        0         General         Dresses    Dresses  \n",
       "3                        0  General Petite         Bottoms      Pants  \n",
       "4                        6         General            Tops    Blouses  "
      ]
     },
     "execution_count": 46,
     "metadata": {},
     "output_type": "execute_result"
    }
   ],
   "source": [
    "df = pd.read_csv('clothing reviews.csv')\n",
    "df.head()"
   ]
  },
  {
   "cell_type": "code",
   "execution_count": 49,
   "metadata": {},
   "outputs": [],
   "source": [
    "df_new = df[['Review Text', 'Rating']]\n",
    "df_new = df_new.dropna()"
   ]
  },
  {
   "cell_type": "code",
   "execution_count": 50,
   "metadata": {},
   "outputs": [],
   "source": [
    "# if rating > 3 stars, position feedback, count as 0\n",
    "# if rating < 4 stars, negative and neutral feedback, count as 1\n",
    "df_new.loc[df_new['Rating'] < 4, 'Rating'] = 0\n",
    "df_new.loc[df_new['Rating'] > 3, 'Rating'] = 1"
   ]
  },
  {
   "cell_type": "code",
   "execution_count": 51,
   "metadata": {},
   "outputs": [
    {
     "data": {
      "text/html": [
       "<div>\n",
       "<style scoped>\n",
       "    .dataframe tbody tr th:only-of-type {\n",
       "        vertical-align: middle;\n",
       "    }\n",
       "\n",
       "    .dataframe tbody tr th {\n",
       "        vertical-align: top;\n",
       "    }\n",
       "\n",
       "    .dataframe thead th {\n",
       "        text-align: right;\n",
       "    }\n",
       "</style>\n",
       "<table border=\"1\" class=\"dataframe\">\n",
       "  <thead>\n",
       "    <tr style=\"text-align: right;\">\n",
       "      <th></th>\n",
       "      <th>Review Text</th>\n",
       "      <th>Rating</th>\n",
       "    </tr>\n",
       "  </thead>\n",
       "  <tbody>\n",
       "    <tr>\n",
       "      <td>0</td>\n",
       "      <td>Absolutely wonderful - silky and sexy and comf...</td>\n",
       "      <td>1</td>\n",
       "    </tr>\n",
       "    <tr>\n",
       "      <td>1</td>\n",
       "      <td>Love this dress!  it's sooo pretty.  i happene...</td>\n",
       "      <td>1</td>\n",
       "    </tr>\n",
       "    <tr>\n",
       "      <td>2</td>\n",
       "      <td>I had such high hopes for this dress and reall...</td>\n",
       "      <td>0</td>\n",
       "    </tr>\n",
       "    <tr>\n",
       "      <td>3</td>\n",
       "      <td>I love, love, love this jumpsuit. it's fun, fl...</td>\n",
       "      <td>1</td>\n",
       "    </tr>\n",
       "    <tr>\n",
       "      <td>4</td>\n",
       "      <td>This shirt is very flattering to all due to th...</td>\n",
       "      <td>1</td>\n",
       "    </tr>\n",
       "  </tbody>\n",
       "</table>\n",
       "</div>"
      ],
      "text/plain": [
       "                                         Review Text  Rating\n",
       "0  Absolutely wonderful - silky and sexy and comf...       1\n",
       "1  Love this dress!  it's sooo pretty.  i happene...       1\n",
       "2  I had such high hopes for this dress and reall...       0\n",
       "3  I love, love, love this jumpsuit. it's fun, fl...       1\n",
       "4  This shirt is very flattering to all due to th...       1"
      ]
     },
     "execution_count": 51,
     "metadata": {},
     "output_type": "execute_result"
    }
   ],
   "source": [
    "df_new.head()"
   ]
  },
  {
   "cell_type": "markdown",
   "metadata": {},
   "source": [
    "### Use the code to generate a document-feature matrix"
   ]
  },
  {
   "cell_type": "code",
   "execution_count": 53,
   "metadata": {},
   "outputs": [],
   "source": [
    "text = df_new['Review Text'].values.astype('U') #Taking the text from the df, convert it to Unicode\n",
    "vect = CountVectorizer(stop_words='english') #Create the CV object, with English stop words\n",
    "vect = vect.fit(text) # fit the model with the words from the review text\n",
    "docu_feat = vect.transform(text) # make a matrix\n"
   ]
  },
  {
   "cell_type": "code",
   "execution_count": 16,
   "metadata": {},
   "outputs": [
    {
     "name": "stdout",
     "output_type": "stream",
     "text": [
      "  (0, 581)\t1\n",
      "  (0, 2788)\t1\n",
      "  (0, 10683)\t1\n",
      "  (0, 10928)\t1\n",
      "  (0, 13630)\t1\n",
      "  (1, 1446)\t2\n",
      "  (1, 1845)\t1\n",
      "  (1, 3537)\t1\n",
      "  (1, 3701)\t1\n",
      "  (1, 4035)\t1\n",
      "  (1, 5421)\t1\n",
      "  (1, 5725)\t1\n",
      "  (1, 5930)\t1\n",
      "  (1, 6667)\t1\n",
      "  (1, 6754)\t1\n",
      "  (1, 6986)\t1\n",
      "  (1, 7137)\t1\n",
      "  (1, 7257)\t2\n",
      "  (1, 7671)\t1\n",
      "  (1, 8363)\t1\n",
      "  (1, 8431)\t1\n",
      "  (1, 8888)\t3\n",
      "  (1, 9339)\t1\n",
      "  (1, 11292)\t1\n",
      "  (1, 11630)\t1\n",
      "  :\t:\n",
      "  (22639, 8205)\t1\n",
      "  (22639, 8838)\t1\n",
      "  (22639, 8841)\t1\n",
      "  (22639, 10863)\t1\n",
      "  (22639, 11384)\t1\n",
      "  (22639, 11863)\t1\n",
      "  (22639, 12081)\t1\n",
      "  (22639, 12090)\t1\n",
      "  (22639, 12938)\t1\n",
      "  (22639, 13280)\t1\n",
      "  (22639, 13315)\t1\n",
      "  (22639, 13379)\t1\n",
      "  (22639, 13413)\t1\n",
      "  (22639, 13684)\t1\n",
      "  (22640, 2796)\t1\n",
      "  (22640, 4035)\t1\n",
      "  (22640, 4163)\t1\n",
      "  (22640, 4796)\t1\n",
      "  (22640, 4884)\t1\n",
      "  (22640, 5893)\t1\n",
      "  (22640, 7264)\t1\n",
      "  (22640, 8841)\t1\n",
      "  (22640, 9057)\t1\n",
      "  (22640, 9773)\t1\n",
      "  (22640, 13389)\t1\n"
     ]
    }
   ],
   "source": [
    "print(docu_feat)"
   ]
  },
  {
   "cell_type": "markdown",
   "metadata": {},
   "source": [
    "### Building the mode\n",
    "\n",
    "Use the Naïve Bayes classifier from `sklearn`."
   ]
  },
  {
   "cell_type": "code",
   "execution_count": 54,
   "metadata": {},
   "outputs": [],
   "source": [
    "from sklearn.naive_bayes import MultinomialNB\n",
    "\n",
    "nb = MultinomialNB()  \n",
    "x = docu_feat #the document-feature matrix is the x matrix\n",
    "y = df_new['Rating'] #creating the y vector\n",
    "\n",
    "x_train, x_test, y_train, y_test = train_test_split(x, y, test_size=0.3)  \n",
    "\n",
    "nb = nb.fit(x_train, y_train) #fit the model x=features, y=character\n"
   ]
  },
  {
   "cell_type": "markdown",
   "metadata": {},
   "source": [
    "### Evaluating the model"
   ]
  },
  {
   "cell_type": "code",
   "execution_count": 55,
   "metadata": {},
   "outputs": [
    {
     "data": {
      "text/plain": [
       "0.8717797732960401"
      ]
     },
     "execution_count": 55,
     "metadata": {},
     "output_type": "execute_result"
    }
   ],
   "source": [
    "y_test_p = nb.predict(x_test)\n",
    "nb.score(x_test, y_test)"
   ]
  },
  {
   "cell_type": "markdown",
   "metadata": {},
   "source": [
    "The accuracy is  87%  "
   ]
  },
  {
   "cell_type": "code",
   "execution_count": 57,
   "metadata": {},
   "outputs": [
    {
     "data": {
      "text/plain": [
       "1    0.770637\n",
       "0    0.229363\n",
       "Name: Rating, dtype: float64"
      ]
     },
     "execution_count": 57,
     "metadata": {},
     "output_type": "execute_result"
    }
   ],
   "source": [
    "df_new['Rating'].value_counts(normalize=True)"
   ]
  },
  {
   "cell_type": "markdown",
   "metadata": {},
   "source": [
    "Let's create a confusion matrix."
   ]
  },
  {
   "cell_type": "code",
   "execution_count": 58,
   "metadata": {},
   "outputs": [
    {
     "data": {
      "text/html": [
       "<div>\n",
       "<style scoped>\n",
       "    .dataframe tbody tr th:only-of-type {\n",
       "        vertical-align: middle;\n",
       "    }\n",
       "\n",
       "    .dataframe tbody tr th {\n",
       "        vertical-align: top;\n",
       "    }\n",
       "\n",
       "    .dataframe thead th {\n",
       "        text-align: right;\n",
       "    }\n",
       "</style>\n",
       "<table border=\"1\" class=\"dataframe\">\n",
       "  <thead>\n",
       "    <tr style=\"text-align: right;\">\n",
       "      <th></th>\n",
       "      <th>1-pred</th>\n",
       "      <th>0-pred</th>\n",
       "    </tr>\n",
       "  </thead>\n",
       "  <tbody>\n",
       "    <tr>\n",
       "      <td>1</td>\n",
       "      <td>1057</td>\n",
       "      <td>488</td>\n",
       "    </tr>\n",
       "    <tr>\n",
       "      <td>0</td>\n",
       "      <td>383</td>\n",
       "      <td>4865</td>\n",
       "    </tr>\n",
       "  </tbody>\n",
       "</table>\n",
       "</div>"
      ],
      "text/plain": [
       "   1-pred  0-pred\n",
       "1    1057     488\n",
       "0     383    4865"
      ]
     },
     "execution_count": 58,
     "metadata": {},
     "output_type": "execute_result"
    }
   ],
   "source": [
    "cm = confusion_matrix(y_test, y_test_p)\n",
    "cm = pd.DataFrame(cm, index=['1', '0'], columns=['1-pred', '0-pred'])\n",
    "cm"
   ]
  },
  {
   "cell_type": "markdown",
   "metadata": {},
   "source": [
    "Let's calculate precision and recall"
   ]
  },
  {
   "cell_type": "code",
   "execution_count": 59,
   "metadata": {},
   "outputs": [
    {
     "name": "stdout",
     "output_type": "stream",
     "text": [
      "              precision    recall  f1-score   support\n",
      "\n",
      "           0       0.73      0.68      0.71      1545\n",
      "           1       0.91      0.93      0.92      5248\n",
      "\n",
      "    accuracy                           0.87      6793\n",
      "   macro avg       0.82      0.81      0.81      6793\n",
      "weighted avg       0.87      0.87      0.87      6793\n",
      "\n"
     ]
    }
   ],
   "source": [
    "from sklearn.metrics import classification_report\n",
    "print(classification_report(y_test, y_test_p))"
   ]
  },
  {
   "cell_type": "markdown",
   "metadata": {},
   "source": [
    "The precision for negative/neutral feedback is 0.91  "
   ]
  },
  {
   "cell_type": "markdown",
   "metadata": {},
   "source": [
    "### Check out 3 cases where the model is off target. \n",
    "\n",
    "Inspect the associated texts. "
   ]
  },
  {
   "cell_type": "code",
   "execution_count": 75,
   "metadata": {},
   "outputs": [
    {
     "name": "stdout",
     "output_type": "stream",
     "text": [
      "...but it does have it's problems. the neck, although it has pretty button detail at the back, is very outsized on me. i would like to see it fit a bit more snugly as by not laying flat, necklaces bunch up and are hard to wear with it. it is just sort of 'floppy' if i'm making sense. the camisole liner is nicely made and attaches with snaps at the shoulders which gives this a definite plus. the fabric is sort of like chiffon with appliquã©d flowers. the color combination is beautiful and with the\n",
      "prediction: 0\n",
      "actual: 1\n",
      "\n",
      "\n",
      "I bought these pants in white and tan. they are comfortable and fit great.however, they tend to stretch. i just got them and they are already starting to become uncomfortably loose. i still really like them but i recommend you buy a little tight so they become comfortable.\n",
      "prediction: 1\n",
      "actual: 0\n",
      "\n",
      "\n",
      "I got this sweater with high hopes to wear it with some leggings for christmas. it looked adorable (and long!) on the model. however, it doesn't even cover my butt, that's how short it is. if you're anything over 5'4\", i'd say it'll be too short for leggings.\n",
      "prediction: 1\n",
      "actual: 0\n",
      "\n",
      "\n"
     ]
    }
   ],
   "source": [
    "j = 0\n",
    "k = 0\n",
    "for i in y_test.index:\n",
    "    if y_test[i] != y_test_p[k] and j < 3:\n",
    "        print(df['Review Text'][i])\n",
    "        print('prediction: '+ str(y_test_p[k]))\n",
    "        print('actual: ' + str(y_test[i]))\n",
    "        print('\\n')\n",
    "        j += 1\n",
    "    k += 1"
   ]
  },
  {
   "cell_type": "markdown",
   "metadata": {},
   "source": [
    "Case 1: Predicted to be positive, actual to be negative/neutral. I think the reason for the mistake is that the text includes many words of praise \"pretty, nicely,beautiful\" and no very clear negative words.\n",
    "\n",
    "Case 2: Predicted to be negative/neutral, actual to be positive. I think the main reason is the word \"uncomfortably\".\n",
    "\n",
    "Case 3: Predicted to be negative/neutral, actual to be positive. This is a difficult one, as the customer made it clear that the product did not match her expectations with a lot of words like \"however, doesn't, even, short\".The rating is positive, probably because the customer think the sweater is still adorable."
   ]
  }
 ],
 "metadata": {
  "kernelspec": {
   "display_name": "Python 3",
   "language": "python",
   "name": "python3"
  },
  "language_info": {
   "codemirror_mode": {
    "name": "ipython",
    "version": 3
   },
   "file_extension": ".py",
   "mimetype": "text/x-python",
   "name": "python",
   "nbconvert_exporter": "python",
   "pygments_lexer": "ipython3",
   "version": "3.7.4"
  }
 },
 "nbformat": 4,
 "nbformat_minor": 2
}
